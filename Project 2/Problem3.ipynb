{
 "cells": [
  {
   "cell_type": "code",
   "execution_count": 1,
   "id": "d387fe6f",
   "metadata": {},
   "outputs": [
    {
     "name": "stdout",
     "output_type": "stream",
     "text": [
      "Collecting pyspark\n",
      "  Downloading pyspark-3.3.1.tar.gz (281.4 MB)\n",
      "     ------------------------------------- 281.4/281.4 MB 12.1 MB/s eta 0:00:00\n",
      "  Preparing metadata (setup.py): started\n",
      "  Preparing metadata (setup.py): finished with status 'done'\n",
      "Collecting py4j==0.10.9.5\n",
      "  Downloading py4j-0.10.9.5-py2.py3-none-any.whl (199 kB)\n",
      "     ---------------------------------------- 199.7/199.7 kB ? eta 0:00:00\n",
      "Building wheels for collected packages: pyspark\n",
      "  Building wheel for pyspark (setup.py): started\n",
      "  Building wheel for pyspark (setup.py): finished with status 'done'\n",
      "  Created wheel for pyspark: filename=pyspark-3.3.1-py2.py3-none-any.whl size=281845512 sha256=d667bc21da0e567bcf110dde313f11d997c173818c733144cb0bbca58e250614\n",
      "  Stored in directory: c:\\users\\mural\\appdata\\local\\pip\\cache\\wheels\\51\\c8\\18\\298a4ced8ebb3ab8a7d26a7198c0cc7035abb906bde94a4c4b\n",
      "Successfully built pyspark\n",
      "Installing collected packages: py4j, pyspark\n",
      "Successfully installed py4j-0.10.9.5 pyspark-3.3.1\n"
     ]
    },
    {
     "name": "stderr",
     "output_type": "stream",
     "text": [
      "\n",
      "[notice] A new release of pip available: 22.2.2 -> 22.3.1\n",
      "[notice] To update, run: python.exe -m pip install --upgrade pip\n"
     ]
    }
   ],
   "source": [
    "!pip install pyspark\n"
   ]
  },
  {
   "cell_type": "code",
   "execution_count": 3,
   "id": "a8c8099d",
   "metadata": {},
   "outputs": [],
   "source": [
    "import pyspark"
   ]
  },
  {
   "cell_type": "code",
   "execution_count": 4,
   "id": "06652867",
   "metadata": {},
   "outputs": [],
   "source": [
    "from pyspark.sql import SparkSession"
   ]
  },
  {
   "cell_type": "code",
   "execution_count": 27,
   "id": "5ba5b309",
   "metadata": {},
   "outputs": [],
   "source": [
    "from pyspark.sql.functions import *"
   ]
  },
  {
   "cell_type": "code",
   "execution_count": 6,
   "id": "1fd656d2",
   "metadata": {},
   "outputs": [],
   "source": [
    "spark = SparkSession.builder.appName('Problem3').getOrCreate()"
   ]
  },
  {
   "cell_type": "code",
   "execution_count": 11,
   "id": "b64aa512",
   "metadata": {},
   "outputs": [],
   "source": [
    "df = spark.read.option('header','false').csv('D:\\Acadamics WPI\\CS585 Big Data Management\\Project 2\\Transactions.csv',inferSchema=True)"
   ]
  },
  {
   "cell_type": "code",
   "execution_count": 12,
   "id": "d422a0ff",
   "metadata": {},
   "outputs": [
    {
     "name": "stdout",
     "output_type": "stream",
     "text": [
      "+---+---+---------+---+--------------------+\n",
      "|_c0|_c1|      _c2|_c3|                 _c4|\n",
      "+---+---+---------+---+--------------------+\n",
      "|  1|  1|705.72736|  8|IiBvLScnYtaLgtwzL...|\n",
      "|  2|  2| 816.9572|  8|VQTCgKqGPQdHdwRFz...|\n",
      "|  3|  3|176.21866|  4|bdGJjLbaLAFggBmmM...|\n",
      "|  4|  4| 304.8461|  8|JKogNbXDBmtVdkuui...|\n",
      "|  5|  5| 279.5298|  1|rdPqMyMUlncnQHdMr...|\n",
      "|  6|  6| 669.3279|  1|CqUydTbAExwUXnluL...|\n",
      "|  7|  7|998.74567|  1|YHSUDuReQpYHHHbuG...|\n",
      "|  8|  8|447.03073|  7|TtbxKBQLpxwBfGVOZ...|\n",
      "|  9|  9|81.021065|  7|wDHRKoDeXTdTNRQda...|\n",
      "| 10| 10|387.45612|  9|YJAAGruWJykyQUUYK...|\n",
      "| 11| 11|838.51074|  5|eEhoLdYXiToLyzvag...|\n",
      "| 12| 12|765.49005|  5|sGlrLfSzYcRruRcpo...|\n",
      "| 13| 13|442.60776|  7|wvbYObWCzrfRLYLeq...|\n",
      "| 14| 14|147.89975|  3|AVbmFRatjIjNXudHX...|\n",
      "| 15| 15|97.602615|  7|cgrJDKiDgfPqkRmlz...|\n",
      "| 16| 16|  584.431|  6|ZFnPyAFyGkczXzxRS...|\n",
      "| 17| 17|586.54364|  8|uBcrSKVcmLsxDDpdS...|\n",
      "| 18| 18| 659.2834| 10|psvCvwlPsdfmcOXNn...|\n",
      "| 19| 19|64.592964|  5|SnwVRYgPrYYVYlyAa...|\n",
      "| 20| 20| 278.5204|  3|EUJILaYCgvMiIRpAk...|\n",
      "+---+---+---------+---+--------------------+\n",
      "only showing top 20 rows\n",
      "\n"
     ]
    }
   ],
   "source": [
    "df.show()"
   ]
  },
  {
   "cell_type": "code",
   "execution_count": 17,
   "id": "df72dded",
   "metadata": {},
   "outputs": [],
   "source": [
    "df = df.withColumnRenamed('_c0','TransID')\n",
    "df = df.withColumnRenamed('_c1','CustID')\n",
    "df = df.withColumnRenamed('_c2','TransTotal')\n",
    "df = df.withColumnRenamed('_c3','TransNumItems')\n",
    "df = df.withColumnRenamed('_c4','TransDesc')"
   ]
  },
  {
   "cell_type": "code",
   "execution_count": 18,
   "id": "69f44077",
   "metadata": {},
   "outputs": [
    {
     "name": "stdout",
     "output_type": "stream",
     "text": [
      "root\n",
      " |-- TransId: integer (nullable = true)\n",
      " |-- CustID: integer (nullable = true)\n",
      " |-- TransTotal: double (nullable = true)\n",
      " |-- TransNumItems: integer (nullable = true)\n",
      " |-- TransDesc: string (nullable = true)\n",
      "\n"
     ]
    }
   ],
   "source": [
    "df.printSchema()"
   ]
  },
  {
   "cell_type": "code",
   "execution_count": 36,
   "id": "5e8fe30d",
   "metadata": {},
   "outputs": [],
   "source": [
    "df.createOrReplaceTempView(\"Transactions\")"
   ]
  },
  {
   "cell_type": "code",
   "execution_count": 38,
   "id": "6d251fbd",
   "metadata": {},
   "outputs": [
    {
     "name": "stdout",
     "output_type": "stream",
     "text": [
      "+-------+------+----------+-------------+--------------------+\n",
      "|TransId|CustID|TransTotal|TransNumItems|           TransDesc|\n",
      "+-------+------+----------+-------------+--------------------+\n",
      "|      1|     1| 705.72736|            8|IiBvLScnYtaLgtwzL...|\n",
      "|      2|     2|  816.9572|            8|VQTCgKqGPQdHdwRFz...|\n",
      "|      4|     4|  304.8461|            8|JKogNbXDBmtVdkuui...|\n",
      "|      5|     5|  279.5298|            1|rdPqMyMUlncnQHdMr...|\n",
      "|      6|     6|  669.3279|            1|CqUydTbAExwUXnluL...|\n",
      "|      7|     7| 998.74567|            1|YHSUDuReQpYHHHbuG...|\n",
      "|      8|     8| 447.03073|            7|TtbxKBQLpxwBfGVOZ...|\n",
      "|     10|    10| 387.45612|            9|YJAAGruWJykyQUUYK...|\n",
      "|     11|    11| 838.51074|            5|eEhoLdYXiToLyzvag...|\n",
      "|     12|    12| 765.49005|            5|sGlrLfSzYcRruRcpo...|\n",
      "|     13|    13| 442.60776|            7|wvbYObWCzrfRLYLeq...|\n",
      "|     16|    16|   584.431|            6|ZFnPyAFyGkczXzxRS...|\n",
      "|     17|    17| 586.54364|            8|uBcrSKVcmLsxDDpdS...|\n",
      "|     18|    18|  659.2834|           10|psvCvwlPsdfmcOXNn...|\n",
      "|     20|    20|  278.5204|            3|EUJILaYCgvMiIRpAk...|\n",
      "|     22|    22|  833.0222|            9|mMrkTYYqNOlqMcTiN...|\n",
      "|     23|    23| 565.34393|            2|mYRDdpgtEqGFjFhYg...|\n",
      "|     24|    24| 536.58563|            7|nYXTJxCbvoJjFTSwV...|\n",
      "|     26|    26| 460.59375|            7|vefGzFjxTBNyDnsCV...|\n",
      "|     27|    27| 205.28831|            3|fvcnmMtkemACTYGHP...|\n",
      "+-------+------+----------+-------------+--------------------+\n",
      "only showing top 20 rows\n",
      "\n"
     ]
    }
   ],
   "source": [
    "# T1\n",
    "T1 = spark.sql(\"SELECT * FROM Transactions WHERE TransTotal>=200\")\n",
    "T1.show()\n",
    "T1.createOrReplaceTempView(\"T1\")"
   ]
  },
  {
   "cell_type": "code",
   "execution_count": 43,
   "id": "3273b250",
   "metadata": {},
   "outputs": [
    {
     "name": "stdout",
     "output_type": "stream",
     "text": [
      "+-------------+---------+----------+-----------------+\n",
      "|TransNumItems|      Min|       Max|     AverageTotal|\n",
      "+-------------+---------+----------+-----------------+\n",
      "|            1|200.00201|1000.99963|600.6975258443335|\n",
      "|            6|200.00002| 1000.9973|600.4016342750211|\n",
      "|            3|200.00038| 1000.9982|599.8147830360873|\n",
      "|            5|200.00053|1000.99585|600.4341447166371|\n",
      "|            9|  200.003| 1000.9989|600.5540300106376|\n",
      "|            4|200.00154|    1001.0|600.4196428638362|\n",
      "|            8|200.00656| 1000.9999|600.4962424765906|\n",
      "|            7|200.00629|1000.99664|600.4110138265504|\n",
      "|           10| 200.0014|1000.99774|600.3107869375992|\n",
      "|            2|200.00095| 1000.9995|600.0706089062178|\n",
      "+-------------+---------+----------+-----------------+\n",
      "\n"
     ]
    }
   ],
   "source": [
    "# T2\n",
    "T2 = spark.sql(\"SELECT TransNumItems, MIN(TransTotal) As Min, Max(TransTotal) As Max, AVG(TransTotal) as AverageTotal FROM T1 GROUP BY TransNumitems\")\n",
    "T2.show()\n",
    "T2.createOrReplaceTempView(\"T2\")"
   ]
  },
  {
   "cell_type": "code",
   "execution_count": 49,
   "id": "35571b28",
   "metadata": {},
   "outputs": [
    {
     "name": "stdout",
     "output_type": "stream",
     "text": [
      "+------+----------+\n",
      "|CustID|TransCount|\n",
      "+------+----------+\n",
      "|   148|        82|\n",
      "|   463|        77|\n",
      "|   471|        76|\n",
      "|  1088|        81|\n",
      "|  1238|        74|\n",
      "|  1580|        76|\n",
      "|  1591|        83|\n",
      "|  1645|        86|\n",
      "|  1829|        73|\n",
      "|  1959|        86|\n",
      "|  2122|        85|\n",
      "|  2142|        83|\n",
      "|  2366|        83|\n",
      "|  2659|        80|\n",
      "|  2866|        84|\n",
      "|  3175|        82|\n",
      "|  3749|        74|\n",
      "|  3794|        87|\n",
      "|  3918|        77|\n",
      "|  4101|        83|\n",
      "+------+----------+\n",
      "only showing top 20 rows\n",
      "\n"
     ]
    }
   ],
   "source": [
    "#T3\n",
    "T3 = spark.sql(\"SELECT CustID, COUNT(*) as TransCount FROM T1 GROUP BY CustID\")\n",
    "T3.show()\n",
    "T3.createOrReplaceTempView(\"T3\")"
   ]
  },
  {
   "cell_type": "code",
   "execution_count": 50,
   "id": "9aafbdcd",
   "metadata": {},
   "outputs": [
    {
     "name": "stdout",
     "output_type": "stream",
     "text": [
      "+-------+------+----------+-------------+--------------------+\n",
      "|TransId|CustID|TransTotal|TransNumItems|           TransDesc|\n",
      "+-------+------+----------+-------------+--------------------+\n",
      "|      1|     1| 705.72736|            8|IiBvLScnYtaLgtwzL...|\n",
      "|      2|     2|  816.9572|            8|VQTCgKqGPQdHdwRFz...|\n",
      "|      6|     6|  669.3279|            1|CqUydTbAExwUXnluL...|\n",
      "|      7|     7| 998.74567|            1|YHSUDuReQpYHHHbuG...|\n",
      "|     11|    11| 838.51074|            5|eEhoLdYXiToLyzvag...|\n",
      "|     12|    12| 765.49005|            5|sGlrLfSzYcRruRcpo...|\n",
      "|     18|    18|  659.2834|           10|psvCvwlPsdfmcOXNn...|\n",
      "|     22|    22|  833.0222|            9|mMrkTYYqNOlqMcTiN...|\n",
      "|     33|    33| 763.04846|            5|IyOWroOYGUJIXpLJB...|\n",
      "|     35|    35|  916.9663|            7|zJadpgvTMDbScwqyv...|\n",
      "|     41|    41|   677.482|            4|phAFEURrmpwkbtxeH...|\n",
      "|     42|    42| 787.64264|            4|DIVbaTIhkqOhVOPHz...|\n",
      "|     45|    45| 632.58484|            3|nTECtynjQMGPEMeqX...|\n",
      "|     46|    46|  658.2769|           10|mopvtyLmbQcMuInmS...|\n",
      "|     48|    48|  850.5452|            2|TVczkknSzlmjDBaXA...|\n",
      "|     50|    50| 965.36584|            2|eiAOtCXsiXuxeAcMJ...|\n",
      "|     52|    52| 764.26117|            5|uMOqtwPUDmIsSYRaO...|\n",
      "|     55|    55| 835.81506|            6|YHZQKgFUHBvrNdCMuoWQ|\n",
      "|     56|    56| 859.24786|            3|eZhMwVmxALZoyheCQ...|\n",
      "|     57|    57| 811.30756|            3|LsdoTaljHBHRQmHlV...|\n",
      "+-------+------+----------+-------------+--------------------+\n",
      "only showing top 20 rows\n",
      "\n"
     ]
    }
   ],
   "source": [
    "#T4\n",
    "T4 = spark.sql(\"SELECT * FROM Transactions WHERE TransTotal>600\")\n",
    "T4.show()\n",
    "T4.createOrReplaceTempView(\"T4\")"
   ]
  },
  {
   "cell_type": "code",
   "execution_count": 52,
   "id": "cb48517f",
   "metadata": {},
   "outputs": [
    {
     "name": "stdout",
     "output_type": "stream",
     "text": [
      "+------+----------+\n",
      "|CustID|TransCount|\n",
      "+------+----------+\n",
      "|  1238|        37|\n",
      "|  1645|        53|\n",
      "|  1959|        39|\n",
      "|  2866|        37|\n",
      "|  3175|        41|\n",
      "|  4101|        42|\n",
      "|  4818|        32|\n",
      "|  6357|        38|\n",
      "|  6620|        46|\n",
      "|  6658|        47|\n",
      "|  7253|        36|\n",
      "|  7554|        34|\n",
      "|  7880|        47|\n",
      "|  7982|        49|\n",
      "|  8389|        32|\n",
      "|  8592|        31|\n",
      "|  9376|        42|\n",
      "|  9900|        45|\n",
      "| 10206|        43|\n",
      "| 10623|        49|\n",
      "+------+----------+\n",
      "only showing top 20 rows\n",
      "\n"
     ]
    }
   ],
   "source": [
    "#T5\n",
    "T5 = spark.sql(\"SELECT CustID, COUNT(*) as TransCount FROM T4 GROUP BY CustID\")\n",
    "T5.show()\n",
    "T5.createOrReplaceTempView(\"T5\")"
   ]
  },
  {
   "cell_type": "code",
   "execution_count": 56,
   "id": "857c4a0c",
   "metadata": {},
   "outputs": [
    {
     "name": "stdout",
     "output_type": "stream",
     "text": [
      "+------+----------+\n",
      "|CustID|TransCount|\n",
      "+------+----------+\n",
      "+------+----------+\n",
      "\n"
     ]
    }
   ],
   "source": [
    "#T6\n",
    "T6 = spark.sql(\"SELECT T5.CustID, COUNT(*) as TransCount FROM T3, T5 WHERE T3.TransCount > T5.TransCount * 5 GROUP BY T5.CustID\")\n",
    "T6.show()\n"
   ]
  },
  {
   "cell_type": "code",
   "execution_count": null,
   "id": "0a8d0f72",
   "metadata": {},
   "outputs": [],
   "source": []
  }
 ],
 "metadata": {
  "kernelspec": {
   "display_name": "Python 3 (ipykernel)",
   "language": "python",
   "name": "python3"
  },
  "language_info": {
   "codemirror_mode": {
    "name": "ipython",
    "version": 3
   },
   "file_extension": ".py",
   "mimetype": "text/x-python",
   "name": "python",
   "nbconvert_exporter": "python",
   "pygments_lexer": "ipython3",
   "version": "3.9.13"
  }
 },
 "nbformat": 4,
 "nbformat_minor": 5
}
